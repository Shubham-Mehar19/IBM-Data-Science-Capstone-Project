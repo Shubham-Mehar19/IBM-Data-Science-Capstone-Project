{
 "cells": [
  {
   "cell_type": "code",
   "execution_count": 1,
   "id": "1cbf2af5",
   "metadata": {},
   "outputs": [],
   "source": [
    "#pip install pandas dash"
   ]
  },
  {
   "cell_type": "code",
   "execution_count": 2,
   "id": "406385ec",
   "metadata": {},
   "outputs": [
    {
     "name": "stderr",
     "output_type": "stream",
     "text": [
      "C:\\Users\\HP\\AppData\\Local\\Temp\\ipykernel_4372\\4250164936.py:4: UserWarning: \n",
      "The dash_html_components package is deprecated. Please replace\n",
      "`import dash_html_components as html` with `from dash import html`\n",
      "  import dash_html_components as html\n",
      "C:\\Users\\HP\\AppData\\Local\\Temp\\ipykernel_4372\\4250164936.py:5: UserWarning: \n",
      "The dash_core_components package is deprecated. Please replace\n",
      "`import dash_core_components as dcc` with `from dash import dcc`\n",
      "  import dash_core_components as dcc\n"
     ]
    },
    {
     "data": {
      "text/html": [
       "\n",
       "        <iframe\n",
       "            width=\"100%\"\n",
       "            height=\"650\"\n",
       "            src=\"http://127.0.0.1:8050/\"\n",
       "            frameborder=\"0\"\n",
       "            allowfullscreen\n",
       "            \n",
       "        ></iframe>\n",
       "        "
      ],
      "text/plain": [
       "<IPython.lib.display.IFrame at 0x2494b203d50>"
      ]
     },
     "metadata": {},
     "output_type": "display_data"
    },
    {
     "data": {
      "text/plain": [
       "\"\\nif __name__ == '__main__':\\n    app.run_server(debug=False, mode='external', port=8050, host='127.0.0.1')\\n\""
      ]
     },
     "execution_count": 2,
     "metadata": {},
     "output_type": "execute_result"
    }
   ],
   "source": [
    "# Import required libraries\n",
    "import pandas as pd\n",
    "import dash\n",
    "import dash_html_components as html\n",
    "import dash_core_components as dcc\n",
    "from dash.dependencies import Input, Output\n",
    "import plotly.express as px\n",
    "\n",
    "# Read the airline data into pandas dataframe\n",
    "spacex_df = pd.read_csv(\"https://cf-courses-data.s3.us.cloud-object-storage.appdomain.cloud/IBM-DS0321EN-SkillsNetwork/datasets/spacex_launch_dash.csv\")\n",
    "max_payload = spacex_df['Payload Mass (kg)'].max()\n",
    "min_payload = spacex_df['Payload Mass (kg)'].min()\n",
    "\n",
    "# Create a dash application\n",
    "app = dash.Dash(__name__)\n",
    "\n",
    "\n",
    "# To find launchsites\n",
    "launchsites = spacex_df['Launch Site'].unique().tolist()\n",
    "launchingSites = []\n",
    "launchingSites.append({'label': 'All Sites', 'value': 'All Sites'})\n",
    "for site in launchsites:\n",
    "    launchingSites.append({'label': site, 'value': site})\n",
    "\n",
    "# Create an app layout\n",
    "app.layout = html.Div(children=[html.H1('SpaceX Launch Records Dashboard',\n",
    "                                        style={'textAlign': 'center', 'color': '#503D36',\n",
    "                                               'font-size': 40}),\n",
    "                                # TASK 1: Add a dropdown list to enable Launch Site selection\n",
    "                                # The default select value is for ALL sites\n",
    "                                # dcc.Dropdown(id='site-dropdown',...)\n",
    "\n",
    "\n",
    "                                dcc.Dropdown(id='site-dropdown',options=launchingSites,\n",
    "                                             placeholder='Select a Launch Site here',\n",
    "                                             searchable = True , value = 'All Sites'),\n",
    "                                html.Br(),\n",
    "\n",
    "\n",
    "                                # TASK 2: Add a pie chart to show the total successful launches count for all sites\n",
    "                                # If a specific launch site was selected, show the Success vs. Failed counts for the site\n",
    "                                html.Div(dcc.Graph(id='success-pie-chart')),\n",
    "                                html.Br(),\n",
    "\n",
    "                                html.P(\"Payload range (Kg):\"),\n",
    "\n",
    "\n",
    "                                # TASK 3: Add a slider to select payload range\n",
    "                                #dcc.RangeSlider(id='payload-slider',...)\n",
    "                                dcc.RangeSlider(id='payload-slider',\n",
    "                                min=0,\n",
    "                                max=10000,\n",
    "                                step=1000,\n",
    "                                marks={i: '{}'.format(i) for i in range(0, 10001, 1000)},\n",
    "                                value=[min_payload, max_payload]),\n",
    "\n",
    "\n",
    "                                # TASK 4: Add a scatter chart to show the correlation between payload and launch success\n",
    "                                html.Div(dcc.Graph(id='success-payload-scatter-chart')),\n",
    "                                ])\n",
    "# TASK 2:\n",
    "#https://plotly.com/python/pie-charts/\n",
    "\n",
    "\n",
    "# Add a callback function for `site-dropdown` as input, `success-pie-chart` as output\n",
    "@app.callback( Output(component_id='success-pie-chart', component_property='figure'),\n",
    "               Input(component_id='site-dropdown', component_property='value'))\n",
    "def pie_chart(launch_site):\n",
    "    if launch_site == 'All Sites':\n",
    "        fig = px.pie(values=spacex_df.groupby('Launch Site')['class'].mean(),\n",
    "                     names=spacex_df.groupby('Launch Site')['Launch Site'].first(),\n",
    "                     title='Total Success Launches by Site')\n",
    "    else:\n",
    "        fig = px.pie(values=spacex_df[spacex_df['Launch Site']==str(launch_site)]['class'].value_counts(normalize=True),\n",
    "                     names=spacex_df['class'].unique(),\n",
    "                     title='Total Success Launches for Site {}'.format(launch_site))\n",
    "    return(fig)\n",
    "\n",
    "\n",
    "# TASK 4:\n",
    "#https://plotly.com/python/line-and-scatter/\n",
    "\n",
    "# Add a callback function for `site-dropdown` and `payload-slider` as inputs, `success-payload-scatter-chart` as output\n",
    "@app.callback( Output(component_id='success-payload-scatter-chart', component_property='figure'),\n",
    "              [Input(component_id='site-dropdown', component_property='value'),\n",
    "               Input(component_id='payload-slider',component_property='value')])\n",
    "def Scatter_payload_chart(launch_site, payload_mass):\n",
    "    if launch_site == 'All Sites':\n",
    "        fig = px.scatter(spacex_df[spacex_df['Payload Mass (kg)'].between(payload_mass[0], payload_mass[1])],\n",
    "                x=\"Payload Mass (kg)\",\n",
    "                y=\"class\",\n",
    "                color=\"Booster Version Category\",\n",
    "                hover_data=['Launch Site'],\n",
    "                title='Correlation Between Payload and Success for All Sites')\n",
    "    else:\n",
    "        df = spacex_df[spacex_df['Launch Site']==str(launch_site)]\n",
    "        fig = px.scatter(df[df['Payload Mass (kg)'].between(payload_mass[0], payload_mass[1])],\n",
    "                x=\"Payload Mass (kg)\",\n",
    "                y=\"class\",\n",
    "                color=\"Booster Version Category\",\n",
    "                hover_data=['Launch Site'],\n",
    "                title='Correlation Between Payload and Success for Site {}'.format(launch_site))\n",
    "    return(fig)\n",
    "\n",
    "if __name__ == '__main__':\n",
    "    app.run_server(debug=False, mode='external', port=8050)\n",
    "    \n",
    "#To get the output in new tab copy below link search bar of web browser\n",
    "# http://127.0.0.1:8050/ \n",
    "\n",
    "#In case above link not working then use host parameter\n",
    "'''\n",
    "if __name__ == '__main__':\n",
    "    app.run_server(debug=False, mode='external', port=8050, host='127.0.0.1')\n",
    "'''"
   ]
  },
  {
   "cell_type": "markdown",
   "id": "63426e9c",
   "metadata": {},
   "source": [
    "# Finding Insights Visually"
   ]
  },
  {
   "cell_type": "markdown",
   "id": "413c2994",
   "metadata": {},
   "source": [
    "1. Which site has the largest successful launches?\n",
    "\n",
    "Ans- <code>KSC LC-39A</code>\n",
    "\n",
    "2. Which site has the highest launch success rate?\n",
    "\n",
    "Ans- <code>CCAFS SLC-40</code> has the highest launch success rate <code>42.9%</code>.\n",
    "\n",
    "3. Which payload range(s) has the highest launch success rate?\n",
    "\n",
    "Ans- Payload Range between <code>3000-4000 (kg)</code> has the highest launch success rate with 7 succesful launch.\n",
    "\n",
    "4. Which payload range(s) has the lowest launch success rate?\n",
    "\n",
    "Ans- Payload Range between <code>6000-9000 (kg)</code> has no succesful launch.Payload Range between <code>1000-2000 (kg) and 9000-10000 (kg)</code> has only 1 succesful launch.\n",
    "\n",
    "5. Which F9 Booster version (v1.0,v1.1,FT,B4,B5, etc.) has the highest launch success rate?\n",
    "\n",
    "Ans- <code>F9 Booster version (FT)</code> has the highest launch success rate."
   ]
  },
  {
   "cell_type": "code",
   "execution_count": null,
   "id": "27fec9c5",
   "metadata": {},
   "outputs": [],
   "source": []
  }
 ],
 "metadata": {
  "kernelspec": {
   "display_name": "Python 3 (ipykernel)",
   "language": "python",
   "name": "python3"
  },
  "language_info": {
   "codemirror_mode": {
    "name": "ipython",
    "version": 3
   },
   "file_extension": ".py",
   "mimetype": "text/x-python",
   "name": "python",
   "nbconvert_exporter": "python",
   "pygments_lexer": "ipython3",
   "version": "3.11.5"
  }
 },
 "nbformat": 4,
 "nbformat_minor": 5
}
